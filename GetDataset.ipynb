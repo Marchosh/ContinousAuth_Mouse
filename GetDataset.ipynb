{
 "cells": [
  {
   "cell_type": "code",
   "execution_count": 1,
   "id": "d3e4f49d",
   "metadata": {},
   "outputs": [],
   "source": [
    "import os\n",
    "import pandas as pd\n",
    "\n",
    "# Path to the folder containing the CSV files\n",
    "folder_path = 'Data/'\n",
    "\n",
    "# Get a list of all CSV files in the folder\n",
    "csv_files = [file for file in os.listdir(folder_path) if file.endswith('.csv')]\n",
    "\n",
    "# Create an empty list to store the data from each CSV file\n",
    "dataframes = []\n",
    "\n",
    "# Iterate over each CSV file and read it using pandas\n",
    "for file in csv_files:\n",
    "    file_path = os.path.join(folder_path, file)\n",
    "    df = pd.read_csv(file_path)\n",
    "    dataframes.append(df)\n",
    "\n",
    "# Concatenate the dataframes into a single dataframe\n",
    "combined_df = pd.concat(dataframes)"
   ]
  },
  {
   "cell_type": "code",
   "execution_count": 2,
   "id": "d1187581",
   "metadata": {},
   "outputs": [
    {
     "name": "stdout",
     "output_type": "stream",
     "text": [
      "['002-tf2-315' '001-tf2-315' '004-poly-315' '004-tf2-315' '005-poly-315'\n",
      " '007-poly-317' '007-tf2-317' '008-poly-317' '008-tf2-317' '009-poly-320'\n",
      " '009-tf2-320' '010-poly-317' '010-tf2-320' '011-poly-326' '012-poly-326'\n",
      " '013-poly-326' '013-tf2-326' '014-poly-328' '014-tf2-328' '015-poly-328'\n",
      " '015-tf2-328' '016-tf2-328' '017-tf2-328' '018-poly-330' '018-tf2-330'\n",
      " '019-poly-403' '019-tf2-403' '020-poly-403' '020-tf2-403' '021-tf2-403']\n"
     ]
    }
   ],
   "source": [
    "distinct_values = combined_df['ID'].unique()\n",
    "print(distinct_values)\n"
   ]
  },
  {
   "cell_type": "code",
   "execution_count": 3,
   "id": "918f87d6",
   "metadata": {},
   "outputs": [
    {
     "name": "stdout",
     "output_type": "stream",
     "text": [
      "<class 'pandas.core.frame.DataFrame'>\n",
      "Int64Index: 1202699 entries, 0 to 41931\n",
      "Data columns (total 6 columns):\n",
      " #   Column     Non-Null Count    Dtype  \n",
      "---  ------     --------------    -----  \n",
      " 0   ID         1202699 non-null  object \n",
      " 1   Timestamp  1202699 non-null  float64\n",
      " 2   X          1202699 non-null  object \n",
      " 3   Y          1202699 non-null  object \n",
      " 4   Button     1202699 non-null  object \n",
      " 5   Duration   1202699 non-null  float64\n",
      "dtypes: float64(2), object(4)\n",
      "memory usage: 64.2+ MB\n"
     ]
    }
   ],
   "source": [
    "combined_df.info()"
   ]
  },
  {
   "cell_type": "code",
   "execution_count": 4,
   "id": "8d4992ec",
   "metadata": {},
   "outputs": [
    {
     "data": {
      "text/html": [
       "<div>\n",
       "<style scoped>\n",
       "    .dataframe tbody tr th:only-of-type {\n",
       "        vertical-align: middle;\n",
       "    }\n",
       "\n",
       "    .dataframe tbody tr th {\n",
       "        vertical-align: top;\n",
       "    }\n",
       "\n",
       "    .dataframe thead th {\n",
       "        text-align: right;\n",
       "    }\n",
       "</style>\n",
       "<table border=\"1\" class=\"dataframe\">\n",
       "  <thead>\n",
       "    <tr style=\"text-align: right;\">\n",
       "      <th></th>\n",
       "      <th>ID</th>\n",
       "      <th>Timestamp</th>\n",
       "      <th>X</th>\n",
       "      <th>Y</th>\n",
       "      <th>Button</th>\n",
       "      <th>Duration</th>\n",
       "    </tr>\n",
       "  </thead>\n",
       "  <tbody>\n",
       "    <tr>\n",
       "      <th>0</th>\n",
       "      <td>002-tf2-315</td>\n",
       "      <td>1.678903e+09</td>\n",
       "      <td>558</td>\n",
       "      <td>301</td>\n",
       "      <td>-1</td>\n",
       "      <td>-1.0</td>\n",
       "    </tr>\n",
       "    <tr>\n",
       "      <th>1</th>\n",
       "      <td>002-tf2-315</td>\n",
       "      <td>1.678903e+09</td>\n",
       "      <td>550</td>\n",
       "      <td>290</td>\n",
       "      <td>-1</td>\n",
       "      <td>-1.0</td>\n",
       "    </tr>\n",
       "    <tr>\n",
       "      <th>2</th>\n",
       "      <td>002-tf2-315</td>\n",
       "      <td>1.678903e+09</td>\n",
       "      <td>537</td>\n",
       "      <td>283</td>\n",
       "      <td>-1</td>\n",
       "      <td>-1.0</td>\n",
       "    </tr>\n",
       "    <tr>\n",
       "      <th>3</th>\n",
       "      <td>002-tf2-315</td>\n",
       "      <td>1.678903e+09</td>\n",
       "      <td>526</td>\n",
       "      <td>280</td>\n",
       "      <td>-1</td>\n",
       "      <td>-1.0</td>\n",
       "    </tr>\n",
       "    <tr>\n",
       "      <th>4</th>\n",
       "      <td>002-tf2-315</td>\n",
       "      <td>1.678903e+09</td>\n",
       "      <td>510</td>\n",
       "      <td>276</td>\n",
       "      <td>-1</td>\n",
       "      <td>-1.0</td>\n",
       "    </tr>\n",
       "  </tbody>\n",
       "</table>\n",
       "</div>"
      ],
      "text/plain": [
       "            ID     Timestamp    X    Y Button  Duration\n",
       "0  002-tf2-315  1.678903e+09  558  301     -1      -1.0\n",
       "1  002-tf2-315  1.678903e+09  550  290     -1      -1.0\n",
       "2  002-tf2-315  1.678903e+09  537  283     -1      -1.0\n",
       "3  002-tf2-315  1.678903e+09  526  280     -1      -1.0\n",
       "4  002-tf2-315  1.678903e+09  510  276     -1      -1.0"
      ]
     },
     "execution_count": 4,
     "metadata": {},
     "output_type": "execute_result"
    }
   ],
   "source": [
    "combined_df.head()"
   ]
  },
  {
   "cell_type": "code",
   "execution_count": 5,
   "id": "70cd923d",
   "metadata": {},
   "outputs": [
    {
     "name": "stdout",
     "output_type": "stream",
     "text": [
      "['002-tf2-315' '001-tf2-315' '004-poly-315' '004-tf2-315' '005-poly-315'\n",
      " '007-poly-317' '007-tf2-317' '008-poly-317' '008-tf2-317' '009-poly-320'\n",
      " '009-tf2-320' '010-poly-317' '010-tf2-320' '011-poly-326' '012-poly-326'\n",
      " '013-poly-326' '013-tf2-326' '014-poly-328' '014-tf2-328' '015-poly-328'\n",
      " '015-tf2-328' '016-tf2-328' '017-tf2-328' '018-poly-330' '018-tf2-330'\n",
      " '019-poly-403' '019-tf2-403' '020-poly-403' '020-tf2-403' '021-tf2-403']\n"
     ]
    }
   ],
   "source": [
    "distinct_values = combined_df['ID'].unique()\n",
    "print(distinct_values)\n"
   ]
  },
  {
   "cell_type": "code",
   "execution_count": 6,
   "id": "6286baf5",
   "metadata": {},
   "outputs": [
    {
     "name": "stdout",
     "output_type": "stream",
     "text": [
      "[-1 0 4 3 1 2 5 6]\n"
     ]
    }
   ],
   "source": [
    "# To display unique values from a single column:\n",
    "unique_values_column = combined_df['Button'].unique()\n",
    "print(unique_values_column)"
   ]
  },
  {
   "cell_type": "code",
   "execution_count": 7,
   "id": "a169aa32",
   "metadata": {},
   "outputs": [],
   "source": [
    "combined_df.to_csv('combined_data.csv', index=False)"
   ]
  },
  {
   "cell_type": "code",
   "execution_count": null,
   "id": "5d8d202c",
   "metadata": {},
   "outputs": [],
   "source": []
  }
 ],
 "metadata": {
  "kernelspec": {
   "display_name": "Python 3 (ipykernel)",
   "language": "python",
   "name": "python3"
  },
  "language_info": {
   "codemirror_mode": {
    "name": "ipython",
    "version": 3
   },
   "file_extension": ".py",
   "mimetype": "text/x-python",
   "name": "python",
   "nbconvert_exporter": "python",
   "pygments_lexer": "ipython3",
   "version": "3.10.9"
  }
 },
 "nbformat": 4,
 "nbformat_minor": 5
}
